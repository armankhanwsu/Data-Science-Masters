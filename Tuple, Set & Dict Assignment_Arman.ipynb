{
 "cells": [
  {
   "cell_type": "markdown",
   "id": "07c66f9c",
   "metadata": {},
   "source": [
    "Q1. What are the characteristics of the tuples? Is tuple immutable?"
   ]
  },
  {
   "cell_type": "markdown",
   "id": "1d370480",
   "metadata": {},
   "source": [
    "Ordered,can contain different data types like integer, string, it can be used as a key in dictionary. Yes, tuples are immutable."
   ]
  },
  {
   "cell_type": "markdown",
   "id": "55b14aa5",
   "metadata": {},
   "source": [
    "Q2. What are the two tuple methods in python? Give an example of each method. Give a reason why\n",
    "tuples have only two in-built methods as compared to Lists."
   ]
  },
  {
   "cell_type": "code",
   "execution_count": 3,
   "id": "61291175",
   "metadata": {},
   "outputs": [
    {
     "name": "stdout",
     "output_type": "stream",
     "text": [
      "2\n",
      "2\n"
     ]
    }
   ],
   "source": [
    "#Tuple has two built-in methods. Count and Index. \n",
    "\n",
    "example = (1, 2, 5, 5, 6, 7, 9)\n",
    "\n",
    "print(example.count(5))\n",
    "\n",
    "print(example.index(5))"
   ]
  },
  {
   "cell_type": "markdown",
   "id": "b2a92fb8",
   "metadata": {},
   "source": [
    "List is mutable hence it has append, insert, pop, remove where as tuple is immutable. As a consequence, it does not have list like methods."
   ]
  },
  {
   "cell_type": "markdown",
   "id": "80229eb1",
   "metadata": {},
   "source": [
    "Q3. Which collection datatypes in python do not allow duplicate items? Write a code using a set to remove\n",
    "duplicates from the given list.\n"
   ]
  },
  {
   "cell_type": "code",
   "execution_count": 6,
   "id": "2a218386",
   "metadata": {},
   "outputs": [
    {
     "name": "stdout",
     "output_type": "stream",
     "text": [
      "{1, 2, 3, 4}\n"
     ]
    }
   ],
   "source": [
    "# Set data type does not support duplicates items.\n",
    "List = [1, 1, 1, 2, 1, 3, 1, 4, 2, 1, 2, 2, 2, 3, 2, 4, 3, 1, 3, 2, 3, 3, 3, 4, 4, 1, 4, 2, 4, 3, 4, 4]\n",
    "\n",
    "UpdatedList = set(List)\n",
    "print(UpdatedList)"
   ]
  },
  {
   "cell_type": "markdown",
   "id": "21455069",
   "metadata": {},
   "source": [
    "Q4. Explain the difference between the union() and update() methods for a set. Give an example of\n",
    "each method."
   ]
  },
  {
   "cell_type": "code",
   "execution_count": 10,
   "id": "1f35e839",
   "metadata": {},
   "outputs": [
    {
     "name": "stdout",
     "output_type": "stream",
     "text": [
      "{1, 3, 4, 5, 6, 7}\n",
      "{1, 3, 4, 5, 6, 7}\n"
     ]
    }
   ],
   "source": [
    "# Union -- it creates new set without modifying orginal set:\n",
    "\n",
    "set1 = {1, 3, 4, 5, 6}\n",
    "set2 = {3, 4, 5, 6, 7}\n",
    "common = set1.union(set2)\n",
    "print(common) \n",
    "\n",
    "# update -- it creates new set with modifying original set:\n",
    "set1.update(set2)\n",
    "print(set1)"
   ]
  },
  {
   "cell_type": "markdown",
   "id": "a192a503",
   "metadata": {},
   "source": [
    "Q5. What is a dictionary? Give an example. Also, state whether a dictionary is ordered or unordered."
   ]
  },
  {
   "cell_type": "markdown",
   "id": "2be553aa",
   "metadata": {},
   "source": [
    "In pyhton dictionary is collection of key value payer. like my_dict = {'cpu': 1000, 'memmort': \"30000kb\", 'disk': \"8777\"}. Unlike tupple, dictionary does not maintain order. "
   ]
  },
  {
   "cell_type": "markdown",
   "id": "1edc3433",
   "metadata": {},
   "source": [
    "Q6. Can we create a nested dictionary? If so, please give an example by creating a simple one-level\n",
    "nested dictionary.\n",
    "\n",
    "Yes. my_dict = {node1:{'cpu': 1000, 'memmory': \"30000kb\", 'disk': \"8777\"}, node2:{'cpu': 2000, 'memmory': \"40000kb\", 'disk': \"8777\"}}"
   ]
  },
  {
   "cell_type": "markdown",
   "id": "d822a7b5",
   "metadata": {},
   "source": [
    "Q7. Using setdefault() method, create key named topics in the given dictionary and also add the value of\n",
    "the key as this list ['Python', 'Machine Learning’, 'Deep Learning']\n"
   ]
  },
  {
   "cell_type": "code",
   "execution_count": 11,
   "id": "390801cd",
   "metadata": {},
   "outputs": [
    {
     "data": {
      "text/plain": [
       "['Python', 'Machine Learning', 'Deep Learning']"
      ]
     },
     "execution_count": 11,
     "metadata": {},
     "output_type": "execute_result"
    }
   ],
   "source": [
    "dict1 = {'language' : 'Python', 'course': 'Data Science Masters'}\n",
    "dict1.setdefault('topics', ['Python', 'Machine Learning', 'Deep Learning'])"
   ]
  },
  {
   "cell_type": "code",
   "execution_count": 12,
   "id": "bae2f76c",
   "metadata": {},
   "outputs": [
    {
     "name": "stdout",
     "output_type": "stream",
     "text": [
      "{'language': 'Python', 'course': 'Data Science Masters', 'topics': ['Python', 'Machine Learning', 'Deep Learning']}\n"
     ]
    }
   ],
   "source": [
    "print(dict1)"
   ]
  },
  {
   "cell_type": "markdown",
   "id": "88c6bd93",
   "metadata": {},
   "source": [
    "Q8. What are the three view objects in dictionaries? Use the three in-built methods in python to display\n",
    "these three view objects for the given dictionary."
   ]
  },
  {
   "cell_type": "code",
   "execution_count": 13,
   "id": "1641c24f",
   "metadata": {},
   "outputs": [],
   "source": [
    "dict1 = {'Sport': 'Cricket' , 'Teams': ['India', 'Australia', 'England', 'South Africa', 'Sri Lanka', 'New Zealand']}"
   ]
  },
  {
   "cell_type": "code",
   "execution_count": 14,
   "id": "96be8563",
   "metadata": {},
   "outputs": [
    {
     "name": "stdout",
     "output_type": "stream",
     "text": [
      "dict_keys(['Sport', 'Teams'])\n"
     ]
    }
   ],
   "source": [
    "# Show dictionary view using key\n",
    "print(dict1.keys())"
   ]
  },
  {
   "cell_type": "code",
   "execution_count": 15,
   "id": "1dd17036",
   "metadata": {},
   "outputs": [
    {
     "name": "stdout",
     "output_type": "stream",
     "text": [
      "dict_values(['Cricket', ['India', 'Australia', 'England', 'South Africa', 'Sri Lanka', 'New Zealand']])\n"
     ]
    }
   ],
   "source": [
    "# Show dictionary view using Values\n",
    "print(dict1.values())"
   ]
  },
  {
   "cell_type": "code",
   "execution_count": 16,
   "id": "41cb801c",
   "metadata": {},
   "outputs": [
    {
     "name": "stdout",
     "output_type": "stream",
     "text": [
      "dict_items([('Sport', 'Cricket'), ('Teams', ['India', 'Australia', 'England', 'South Africa', 'Sri Lanka', 'New Zealand'])])\n"
     ]
    }
   ],
   "source": [
    "# Show dictionary view using items\n",
    "print(dict1.items())"
   ]
  }
 ],
 "metadata": {
  "kernelspec": {
   "display_name": "Python 3",
   "language": "python",
   "name": "python3"
  },
  "language_info": {
   "codemirror_mode": {
    "name": "ipython",
    "version": 3
   },
   "file_extension": ".py",
   "mimetype": "text/x-python",
   "name": "python",
   "nbconvert_exporter": "python",
   "pygments_lexer": "ipython3",
   "version": "3.8.8"
  }
 },
 "nbformat": 4,
 "nbformat_minor": 5
}
